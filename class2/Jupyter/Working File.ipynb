{
 "cells": [
  {
   "cell_type": "code",
   "execution_count": 2,
   "id": "48b9f89b",
   "metadata": {},
   "outputs": [
    {
     "name": "stdout",
     "output_type": "stream",
     "text": [
      "Shahzad Khan\n"
     ]
    }
   ],
   "source": [
    "print(\"Shahzad Khan\")"
   ]
  },
  {
   "cell_type": "code",
   "execution_count": 3,
   "id": "a409fca0",
   "metadata": {},
   "outputs": [
    {
     "name": "stdout",
     "output_type": "stream",
     "text": [
      "Saylani AI Batch 3\n"
     ]
    }
   ],
   "source": [
    "print(\"Saylani AI Batch 3\")"
   ]
  },
  {
   "cell_type": "code",
   "execution_count": 4,
   "id": "c72ec783",
   "metadata": {},
   "outputs": [
    {
     "name": "stdout",
     "output_type": "stream",
     "text": [
      "Gulshan Campus\n"
     ]
    }
   ],
   "source": [
    "print(\"Gulshan Campus\")"
   ]
  },
  {
   "cell_type": "code",
   "execution_count": 5,
   "id": "93c9c59e",
   "metadata": {},
   "outputs": [
    {
     "name": "stdout",
     "output_type": "stream",
     "text": [
      "Monday & Friday\n"
     ]
    }
   ],
   "source": [
    "print(\"Monday & Friday\")"
   ]
  },
  {
   "cell_type": "code",
   "execution_count": 1,
   "id": "d91f4f30",
   "metadata": {},
   "outputs": [
    {
     "name": "stdout",
     "output_type": "stream",
     "text": [
      "0900 - 1200 Hours\n"
     ]
    }
   ],
   "source": [
    "print(\"0900 - 1200 Hours\")"
   ]
  },
  {
   "cell_type": "code",
   "execution_count": null,
   "id": "fdd9bf65",
   "metadata": {},
   "outputs": [],
   "source": []
  }
 ],
 "metadata": {
  "kernelspec": {
   "display_name": "Python 3 (ipykernel)",
   "language": "python",
   "name": "python3"
  },
  "language_info": {
   "codemirror_mode": {
    "name": "ipython",
    "version": 3
   },
   "file_extension": ".py",
   "mimetype": "text/x-python",
   "name": "python",
   "nbconvert_exporter": "python",
   "pygments_lexer": "ipython3",
   "version": "3.9.12"
  }
 },
 "nbformat": 4,
 "nbformat_minor": 5
}
