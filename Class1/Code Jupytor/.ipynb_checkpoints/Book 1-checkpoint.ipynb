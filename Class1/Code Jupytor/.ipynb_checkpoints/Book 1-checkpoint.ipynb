{
 "cells": [
  {
   "cell_type": "code",
   "execution_count": null,
   "id": "c88fb011",
   "metadata": {},
   "outputs": [],
   "source": [
    "print(\"Shahzad Khan\")"
   ]
  },
  {
   "cell_type": "code",
   "execution_count": null,
   "id": "e71e7b21",
   "metadata": {},
   "outputs": [],
   "source": [
    "print(\"Saylani AI Batch 3\")"
   ]
  },
  {
   "cell_type": "code",
   "execution_count": null,
   "id": "1ad16f2a",
   "metadata": {},
   "outputs": [],
   "source": [
    "print(\"Gulshan Campus\")"
   ]
  },
  {
   "cell_type": "code",
   "execution_count": null,
   "id": "d67e7980",
   "metadata": {},
   "outputs": [],
   "source": [
    "print(\"Monday & Friday\")"
   ]
  }
 ],
 "metadata": {
  "kernelspec": {
   "display_name": "Python 3 (ipykernel)",
   "language": "python",
   "name": "python3"
  },
  "language_info": {
   "codemirror_mode": {
    "name": "ipython",
    "version": 3
   },
   "file_extension": ".py",
   "mimetype": "text/x-python",
   "name": "python",
   "nbconvert_exporter": "python",
   "pygments_lexer": "ipython3",
   "version": "3.9.12"
  }
 },
 "nbformat": 4,
 "nbformat_minor": 5
}
