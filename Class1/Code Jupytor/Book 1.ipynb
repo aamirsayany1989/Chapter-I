{
 "cells": [
  {
   "cell_type": "code",
   "execution_count": 2,
   "id": "1813e57e",
   "metadata": {},
   "outputs": [
    {
     "name": "stdout",
     "output_type": "stream",
     "text": [
      "Shahzad Khan\n"
     ]
    }
   ],
   "source": [
    "print(\"Shahzad Khan\")"
   ]
  },
  {
   "cell_type": "code",
   "execution_count": 3,
   "id": "4576dca4",
   "metadata": {},
   "outputs": [
    {
     "name": "stdout",
     "output_type": "stream",
     "text": [
      "Saylani AI Batch 3\n"
     ]
    }
   ],
   "source": [
    "print(\"Saylani AI Batch 3\")"
   ]
  },
  {
   "cell_type": "code",
   "execution_count": null,
   "id": "0f1dc367",
   "metadata": {},
   "outputs": [],
   "source": [
    "print(\"Gulshan Campus\")"
   ]
  },
  {
   "cell_type": "code",
   "execution_count": 1,
   "id": "a3e59392",
   "metadata": {},
   "outputs": [
    {
     "name": "stdout",
     "output_type": "stream",
     "text": [
      "Monday & Friday\n"
     ]
    }
   ],
   "source": [
    "print(\"Monday & Friday\")"
   ]
  },
  {
   "cell_type": "code",
   "execution_count": null,
   "id": "c62a951b",
   "metadata": {},
   "outputs": [],
   "source": []
  }
 ],
 "metadata": {
  "kernelspec": {
   "display_name": "Python 3 (ipykernel)",
   "language": "python",
   "name": "python3"
  },
  "language_info": {
   "codemirror_mode": {
    "name": "ipython",
    "version": 3
   },
   "file_extension": ".py",
   "mimetype": "text/x-python",
   "name": "python",
   "nbconvert_exporter": "python",
   "pygments_lexer": "ipython3",
   "version": "3.9.12"
  }
 },
 "nbformat": 4,
 "nbformat_minor": 5
}
